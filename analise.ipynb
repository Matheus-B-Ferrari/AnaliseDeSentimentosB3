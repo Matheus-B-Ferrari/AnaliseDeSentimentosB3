{
 "cells": [
  {
   "cell_type": "markdown",
   "metadata": {},
   "source": [
    "# Coleta"
   ]
  },
  {
   "cell_type": "code",
   "execution_count": 1,
   "metadata": {},
   "outputs": [],
   "source": [
    "import requests\n",
    "from bs4 import BeautifulSoup\n",
    "import pandas as pd\n",
    "import time\n",
    "import pandas as pd\n",
    "import re\n",
    "import nltk\n",
    "from nltk.corpus import stopwords\n",
    "import spacy\n",
    "import os\n",
    "from sklearn.feature_extraction.text import TfidfVectorizer"
   ]
  },
  {
   "cell_type": "markdown",
   "metadata": {},
   "source": [
    " # Configuração de Processamento"
   ]
  },
  {
   "cell_type": "code",
   "execution_count": 2,
   "metadata": {},
   "outputs": [
    {
     "name": "stderr",
     "output_type": "stream",
     "text": [
      "[nltk_data] Downloading package stopwords to\n",
      "[nltk_data]     C:\\Users\\femor\\AppData\\Roaming\\nltk_data...\n",
      "[nltk_data]   Package stopwords is already up-to-date!\n"
     ]
    }
   ],
   "source": [
    "nltk.download(\"stopwords\")\n",
    "stopwords_pt = set(stopwords.words(\"portuguese\"))\n",
    "\n",
    "nlp = spacy.load(\"pt_core_news_sm\")"
   ]
  },
  {
   "cell_type": "code",
   "execution_count": 3,
   "metadata": {},
   "outputs": [],
   "source": [
    "urls = [\n",
    "    \"https://www.infomoney.com.br/economia/previa-da-carga-tributaria-sobe-para-3232-do-pib-em-2024/\",\n",
    "    \"https://www.seudinheiro.com/2025/bolsa-dolar/brava-energia-dispara-19-enquanto-embraer-desaba-11-veja-as-principais-altas-e-baixas-da-semana-na-bolsa/?xpromo=XD-ME-SD-SITE-MNT-X-X-X-X-X&utm_source=SD&utm_medium=MT&utm_campaign=XV-MI-SD-SITE-MNT-X-X-X-X-X&_gl=1*1lgx2ui*_ga*MjIxMTQ4NjgwLjE3NDMyODIwOTE.*_ga_BT4VXC4PQ6*MTc0MzI4MjA5MC4xLjAuMTc0MzI4MjA5MC42MC4wLjA.\"\n",
    "]\n",
    "\n",
    "os.makedirs(\"noticias\", exist_ok=True)"
   ]
  },
  {
   "cell_type": "markdown",
   "metadata": {},
   "source": [
    "# Funções de Coleta e Limpeza de Texto"
   ]
  },
  {
   "cell_type": "code",
   "execution_count": null,
   "metadata": {},
   "outputs": [],
   "source": [
    "def coletar_texto(url):\n",
    "    #Faz o scraping do site e retorna o texto principal da noticia.\n",
    "    response = requests.get(url)\n",
    "    soup = BeautifulSoup(response.text, \"html.parser\")\n",
    "\n",
    "    paragrafos = soup.find_all(\"p\")\n",
    "\n",
    "    paragrafos_filtrados = [\n",
    "        p.get_text().strip() for p in paragrafos\n",
    "        if p.get_text().strip() and not any(kw in p.get_text().lower() for kw in [\"publicidade\", \"compartilhe\", \"atualizado\", \"agência brasil\"])\n",
    "    ]\n",
    "\n",
    "    return \" \".join(paragrafos_filtrados)"
   ]
  },
  {
   "cell_type": "code",
   "execution_count": 5,
   "metadata": {},
   "outputs": [],
   "source": [
    "def limpar_texto(texto):\n",
    "    texto = texto.lower()  \n",
    "    texto = re.sub(r\"http\\S+|www\\S+\", \"\", texto)  \n",
    "    texto = re.sub(r\"\\d+\", \"\", texto)  \n",
    "    texto = re.sub(r\"[^\\w\\s]\", \"\", texto)  \n",
    "    \n",
    "    doc = nlp(texto)\n",
    "    palavras = [token.lemma_ for token in doc if token.text not in stopwords_pt and not token.is_punct]\n",
    "\n",
    "    return \" \".join(palavras)"
   ]
  },
  {
   "cell_type": "markdown",
   "metadata": {},
   "source": [
    "# Coleta e Salvamento das Notícias"
   ]
  },
  {
   "cell_type": "code",
   "execution_count": 6,
   "metadata": {},
   "outputs": [
    {
     "name": "stdout",
     "output_type": "stream",
     "text": [
      "Notícia salva em: noticias/noticia_1.csv\n",
      "Notícia salva em: noticias/noticia_2.csv\n",
      "Processamento finalizado!\n"
     ]
    }
   ],
   "source": [
    "for i, url in enumerate(urls):\n",
    "    try:\n",
    "        texto = coletar_texto(url)\n",
    "        texto_limpo = limpar_texto(texto)\n",
    "\n",
    "        # DataFrame individual\n",
    "        df_noticia = pd.DataFrame([{\n",
    "            \"url\": url,\n",
    "            \"texto_original\": texto,\n",
    "            \"texto_limpo\": texto_limpo,\n",
    "            \"num_palavras\": len(texto.split())\n",
    "        }])\n",
    "\n",
    "       \n",
    "        nome_arquivo = f\"noticias/noticia_{i+1}.csv\"\n",
    "\n",
    "        df_noticia.to_csv(nome_arquivo, index=False)\n",
    "\n",
    "        print(f\"Notícia salva em: {nome_arquivo}\")\n",
    "\n",
    "        time.sleep(2)\n",
    "\n",
    "    except Exception as e:\n",
    "        print(f\"Erro ao coletar {url}: {e}\")\n",
    "\n",
    "print(\"Processamento finalizado!\")"
   ]
  },
  {
   "cell_type": "code",
   "execution_count": 7,
   "metadata": {},
   "outputs": [
    {
     "name": "stdout",
     "output_type": "stream",
     "text": [
      "Notícia salva em: noticias/noticia_1.csv\n",
      "Notícia salva em: noticias/noticia_2.csv\n",
      "Processamento finalizado!\n"
     ]
    }
   ],
   "source": [
    "for i, url in enumerate(urls):\n",
    "    try:\n",
    "        texto = coletar_texto(url)\n",
    "        texto_limpo = limpar_texto(texto)\n",
    "\n",
    "        # DataFrame individual\n",
    "        df_noticia = pd.DataFrame([{\n",
    "            \"url\": url,\n",
    "            \"texto_original\": texto,\n",
    "            \"texto_limpo\": texto_limpo,\n",
    "            \"num_palavras\": len(texto.split())\n",
    "        }])\n",
    "\n",
    "       \n",
    "        nome_arquivo = f\"noticias/noticia_{i+1}.csv\"\n",
    "\n",
    "        df_noticia.to_csv(nome_arquivo, index=False)\n",
    "\n",
    "        print(f\"Notícia salva em: {nome_arquivo}\")\n",
    "\n",
    "        time.sleep(2)\n",
    "\n",
    "    except Exception as e:\n",
    "        print(f\"Erro ao coletar {url}: {e}\")\n",
    "\n",
    "print(\"Processamento finalizado!\")"
   ]
  },
  {
   "cell_type": "code",
   "execution_count": 8,
   "metadata": {},
   "outputs": [],
   "source": [
    "arquivos = os.listdir(\"noticias\")\n",
    "dfs = [pd.read_csv(f\"noticias/{arquivo}\") for arquivo in arquivos if arquivo.endswith(\".csv\")]\n",
    "\n",
    "df = pd.concat(dfs, ignore_index=True)"
   ]
  },
  {
   "cell_type": "code",
   "execution_count": 9,
   "metadata": {},
   "outputs": [
    {
     "name": "stdout",
     "output_type": "stream",
     "text": [
      "\n",
      "Estatísticas do Dataset:\n"
     ]
    },
    {
     "data": {
      "text/html": [
       "<div>\n",
       "<style scoped>\n",
       "    .dataframe tbody tr th:only-of-type {\n",
       "        vertical-align: middle;\n",
       "    }\n",
       "\n",
       "    .dataframe tbody tr th {\n",
       "        vertical-align: top;\n",
       "    }\n",
       "\n",
       "    .dataframe thead th {\n",
       "        text-align: right;\n",
       "    }\n",
       "</style>\n",
       "<table border=\"1\" class=\"dataframe\">\n",
       "  <thead>\n",
       "    <tr style=\"text-align: right;\">\n",
       "      <th></th>\n",
       "      <th>num_palavras</th>\n",
       "    </tr>\n",
       "  </thead>\n",
       "  <tbody>\n",
       "    <tr>\n",
       "      <th>count</th>\n",
       "      <td>2.000000</td>\n",
       "    </tr>\n",
       "    <tr>\n",
       "      <th>mean</th>\n",
       "      <td>987.000000</td>\n",
       "    </tr>\n",
       "    <tr>\n",
       "      <th>std</th>\n",
       "      <td>519.016377</td>\n",
       "    </tr>\n",
       "    <tr>\n",
       "      <th>min</th>\n",
       "      <td>620.000000</td>\n",
       "    </tr>\n",
       "    <tr>\n",
       "      <th>25%</th>\n",
       "      <td>803.500000</td>\n",
       "    </tr>\n",
       "    <tr>\n",
       "      <th>50%</th>\n",
       "      <td>987.000000</td>\n",
       "    </tr>\n",
       "    <tr>\n",
       "      <th>75%</th>\n",
       "      <td>1170.500000</td>\n",
       "    </tr>\n",
       "    <tr>\n",
       "      <th>max</th>\n",
       "      <td>1354.000000</td>\n",
       "    </tr>\n",
       "  </tbody>\n",
       "</table>\n",
       "</div>"
      ],
      "text/plain": [
       "       num_palavras\n",
       "count      2.000000\n",
       "mean     987.000000\n",
       "std      519.016377\n",
       "min      620.000000\n",
       "25%      803.500000\n",
       "50%      987.000000\n",
       "75%     1170.500000\n",
       "max     1354.000000"
      ]
     },
     "metadata": {},
     "output_type": "display_data"
    }
   ],
   "source": [
    "print(\"\\nEstatísticas do Dataset:\")\n",
    "display(df.describe())"
   ]
  },
  {
   "cell_type": "markdown",
   "metadata": {},
   "source": [
    "# Extração de Palavras-chave"
   ]
  },
  {
   "cell_type": "code",
   "execution_count": 10,
   "metadata": {},
   "outputs": [
    {
     "name": "stdout",
     "output_type": "stream",
     "text": [
      "\n",
      " Estatísticas de palavras por notícia:\n"
     ]
    },
    {
     "data": {
      "text/plain": [
       "count       2.000000\n",
       "mean      987.000000\n",
       "std       519.016377\n",
       "min       620.000000\n",
       "25%       803.500000\n",
       "50%       987.000000\n",
       "75%      1170.500000\n",
       "max      1354.000000\n",
       "Name: num_palavras, dtype: float64"
      ]
     },
     "metadata": {},
     "output_type": "display_data"
    }
   ],
   "source": [
    "df[\"num_palavras\"] = df[\"texto_original\"].apply(lambda x: len(str(x).split()))\n",
    "\n",
    "print(\"\\n Estatísticas de palavras por notícia:\")\n",
    "display(df[\"num_palavras\"].describe())"
   ]
  },
  {
   "cell_type": "code",
   "execution_count": 11,
   "metadata": {},
   "outputs": [
    {
     "data": {
      "text/html": [
       "<div>\n",
       "<style scoped>\n",
       "    .dataframe tbody tr th:only-of-type {\n",
       "        vertical-align: middle;\n",
       "    }\n",
       "\n",
       "    .dataframe tbody tr th {\n",
       "        vertical-align: top;\n",
       "    }\n",
       "\n",
       "    .dataframe thead th {\n",
       "        text-align: right;\n",
       "    }\n",
       "</style>\n",
       "<table border=\"1\" class=\"dataframe\">\n",
       "  <thead>\n",
       "    <tr style=\"text-align: right;\">\n",
       "      <th></th>\n",
       "      <th>alta</th>\n",
       "      <th>imposto</th>\n",
       "      <th>lucro</th>\n",
       "      <th>percentual</th>\n",
       "      <th>pib</th>\n",
       "      <th>poder</th>\n",
       "      <th>ponto</th>\n",
       "      <th>renda</th>\n",
       "      <th>sobre</th>\n",
       "      <th>subir</th>\n",
       "    </tr>\n",
       "  </thead>\n",
       "  <tbody>\n",
       "    <tr>\n",
       "      <th>0</th>\n",
       "      <td>0.099170</td>\n",
       "      <td>0.322303</td>\n",
       "      <td>0.074378</td>\n",
       "      <td>0.383296</td>\n",
       "      <td>0.592366</td>\n",
       "      <td>0.000000</td>\n",
       "      <td>0.421474</td>\n",
       "      <td>0.074378</td>\n",
       "      <td>0.371888</td>\n",
       "      <td>0.247926</td>\n",
       "    </tr>\n",
       "    <tr>\n",
       "      <th>1</th>\n",
       "      <td>0.298715</td>\n",
       "      <td>0.049786</td>\n",
       "      <td>0.298715</td>\n",
       "      <td>0.000000</td>\n",
       "      <td>0.000000</td>\n",
       "      <td>0.839668</td>\n",
       "      <td>0.099572</td>\n",
       "      <td>0.248929</td>\n",
       "      <td>0.199144</td>\n",
       "      <td>0.049786</td>\n",
       "    </tr>\n",
       "  </tbody>\n",
       "</table>\n",
       "</div>"
      ],
      "text/plain": [
       "       alta   imposto     lucro  percentual       pib     poder     ponto  \\\n",
       "0  0.099170  0.322303  0.074378    0.383296  0.592366  0.000000  0.421474   \n",
       "1  0.298715  0.049786  0.298715    0.000000  0.000000  0.839668  0.099572   \n",
       "\n",
       "      renda     sobre     subir  \n",
       "0  0.074378  0.371888  0.247926  \n",
       "1  0.248929  0.199144  0.049786  "
      ]
     },
     "metadata": {},
     "output_type": "display_data"
    }
   ],
   "source": [
    "df[\"texto_limpo\"] = df[\"texto_limpo\"].fillna(\"\")  \n",
    "vectorizer = TfidfVectorizer(max_features=10)  \n",
    "tfidf_matrix = vectorizer.fit_transform(df[\"texto_limpo\"]) \n",
    "\n",
    "termos = vectorizer.get_feature_names_out()\n",
    "\n",
    "df_tfidf = pd.DataFrame(tfidf_matrix.toarray(), columns=termos)\n",
    "\n",
    "display(df_tfidf)"
   ]
  }
 ],
 "metadata": {
  "kernelspec": {
   "display_name": "base",
   "language": "python",
   "name": "python3"
  },
  "language_info": {
   "codemirror_mode": {
    "name": "ipython",
    "version": 3
   },
   "file_extension": ".py",
   "mimetype": "text/x-python",
   "name": "python",
   "nbconvert_exporter": "python",
   "pygments_lexer": "ipython3",
   "version": "3.12.7"
  }
 },
 "nbformat": 4,
 "nbformat_minor": 2
}
